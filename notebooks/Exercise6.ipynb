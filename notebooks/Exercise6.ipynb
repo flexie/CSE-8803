{
 "cells": [
  {
   "cell_type": "markdown",
   "metadata": {},
   "source": [
    "# Exercise 6: From processing to inversion II\n",
    "\n",
    "Contents:\n",
    "\n",
    "- Kronecker\n",
    "- NMO-Stack-deconvolution\n",
    "- Inverting the Radon transform\n",
    "\n",
    "# Kronecker\n",
    "\n",
    "Given a matrix X, we often want to apply operations along both dimensions. For example, if each column is a trace we can do a temporal fourier transform of each trace as follows"
   ]
  },
  {
   "cell_type": "code",
   "execution_count": 1,
   "metadata": {},
   "outputs": [],
   "source": [
    "using JOLI, JOLI.Seismic, GenSPGL, PyPlot"
   ]
  },
  {
   "cell_type": "code",
   "execution_count": 2,
   "metadata": {},
   "outputs": [
    {
     "data": {
      "text/plain": [
       "10×5 Array{Complex{Float64},2}:\n",
       "  -1.25777+0.0im       -0.774641+0.0im      …   0.769853+0.0im     \n",
       " -0.654297+0.239707im   0.237683-0.15825im       1.79616+0.309481im\n",
       "  0.416353+1.54421im    0.429671-0.15162im      0.630353-0.853749im\n",
       " -0.820058+0.909454im   0.186228+1.00521im     -0.194571+0.35528im \n",
       "  -1.24295-0.578256im   0.476904-1.38574im     0.0477609-0.885882im\n",
       "  -1.31471+0.0im        0.647963+0.0im      …    1.16376+0.0im     \n",
       "  -1.24295+0.578256im   0.476904+1.38574im     0.0477609+0.885882im\n",
       " -0.820058-0.909454im   0.186228-1.00521im     -0.194571-0.35528im \n",
       "  0.416353-1.54421im    0.429671+0.15162im      0.630353+0.853749im\n",
       " -0.654297-0.239707im   0.237683+0.15825im       1.79616-0.309481im"
      ]
     },
     "execution_count": 2,
     "metadata": {},
     "output_type": "execute_result"
    }
   ],
   "source": [
    "# dummy matrix\n",
    "n1 = 10\n",
    "n2 = 5\n",
    "X = joComplex.(randn(n1,n2))\n",
    "# fft along first dimension\n",
    "F1 = joDFT(n1; DDT=joComplex)\n",
    "Y  = F1*X"
   ]
  },
  {
   "cell_type": "markdown",
   "metadata": {},
   "source": [
    "We can do an fft along the second dimension as follows"
   ]
  },
  {
   "cell_type": "code",
   "execution_count": 3,
   "metadata": {},
   "outputs": [],
   "source": [
    "F2 = joDFT(n2; DDT=joComplex)\n",
    "Y  = transpose(F2*transpose(X));\n"
   ]
  },
  {
   "cell_type": "markdown",
   "metadata": {},
   "source": [
    "Finally, we can combine both in one step as follows"
   ]
  },
  {
   "cell_type": "code",
   "execution_count": 4,
   "metadata": {},
   "outputs": [],
   "source": [
    "Y = (F2*(F1*X).').';"
   ]
  },
  {
   "cell_type": "markdown",
   "metadata": {},
   "source": [
    "We can do the equivalent operation on the vectorized version of X via the Kronecker product. The formula is :\n",
    "    \n",
    "$ \\mathrm{vec}(AXB) = (B^T\\otimes A)\\mathrm{vec}(X) $.\n",
    "\n",
    "where $\\mathrm{vec}$ vectorizes a matrix $X(:)$.\n",
    "\n",
    "Use joKron to construct a 2D fft operator that works on a vectorized version of X, X(:).\n",
    "Show that the result is the same as when using the operators F1 and F2 separately."
   ]
  },
  {
   "cell_type": "code",
   "execution_count": 5,
   "metadata": {},
   "outputs": [
    {
     "data": {
      "text/plain": [
       "0.0"
      ]
     },
     "execution_count": 5,
     "metadata": {},
     "output_type": "execute_result"
    }
   ],
   "source": [
    "# 2D FFT operator\n",
    "F12 = joKron(F2,F1);\n",
    "\n",
    "# compare: F12*X(:) should be the same as Y(:)\n",
    "norm(F12*X[:] - Y[:])\n"
   ]
  },
  {
   "cell_type": "markdown",
   "metadata": {},
   "source": [
    "# NMO-Stack-deconvolution\n",
    "We revisit the NMO and stack operations we saw a few weeks before, but we will use it `backwards`. Remember the conventional flow was Data -> NMO corrected data -> stack -> image We will now traverse this chain in the reverse order, each time using the adjoint of the operations.\n",
    "\n",
    "The reflectivity (image) can be represented by a convolution of a spike train with a wavelet, as we saw last week. We will build this chain of operations reflectivity -> convolved reflectivity -> NMO corrected data -> data, step-by-step.\n",
    "\n",
    "First, define a time and offset axis.\n",
    "\n"
   ]
  },
  {
   "cell_type": "code",
   "execution_count": 6,
   "metadata": {},
   "outputs": [],
   "source": [
    "# time and offset grid\n",
    "t = Float64.(0:.004:1);  nt = length(t);\n",
    "h =  Float64.(0.0:10.0:1000.0); nh = length(h);"
   ]
  },
  {
   "cell_type": "markdown",
   "metadata": {},
   "source": [
    "We make a reflectivity series with 3 spikes and define a wavelet.\n",
    "\n"
   ]
  },
  {
   "cell_type": "code",
   "execution_count": 7,
   "metadata": {},
   "outputs": [
    {
     "data": {
      "text/plain": [
       "251-element Array{Float64,1}:\n",
       " -0.000862599 \n",
       " -0.00173336  \n",
       " -0.00335964  \n",
       " -0.00627815  \n",
       " -0.0113054   \n",
       " -0.0196064   \n",
       " -0.0327228   \n",
       " -0.0525127   \n",
       " -0.0809414   \n",
       " -0.119668    \n",
       " -0.169407    \n",
       " -0.229101    \n",
       " -0.295059    \n",
       "  ⋮           \n",
       " -8.75953e-316\n",
       " -9.20212e-319\n",
       " -0.0         \n",
       " -0.0         \n",
       " -0.0         \n",
       " -0.0         \n",
       " -0.0         \n",
       " -0.0         \n",
       " -0.0         \n",
       " -0.0         \n",
       " -0.0         \n",
       " -0.0         "
      ]
     },
     "execution_count": 7,
     "metadata": {},
     "output_type": "execute_result"
    }
   ],
   "source": [
    "# reflectivity\n",
    "r = zeros(nt,1);\n",
    "r[51] = 1\n",
    "r[101] = -.5\n",
    "r[151] = .75\n",
    "\n",
    "# wavelet\n",
    "w = (1-2*1e3*(t-.1).^2).*exp.(-1e3*(t-.1).^2)"
   ]
  },
  {
   "cell_type": "markdown",
   "metadata": {},
   "source": [
    "The convolution is done by using the FFT SPOT operators, just like in the last exercise."
   ]
  },
  {
   "cell_type": "code",
   "execution_count": 8,
   "metadata": {},
   "outputs": [],
   "source": [
    "# convolution operator\n",
    "C = joDFT(nt)'*joDiag(fft(w))*joDFT(nt);"
   ]
  },
  {
   "cell_type": "markdown",
   "metadata": {},
   "source": [
    "Next, we need to extend the the reflectivity to be a function of time and offset. We are trying to undo the stack operation to create NMO corrected data. Let's first look at the stack. Given a matrix, we can stack the columns by multiplying with a vector of all ones:"
   ]
  },
  {
   "cell_type": "code",
   "execution_count": 9,
   "metadata": {},
   "outputs": [
    {
     "data": {
      "text/plain": [
       "3-element Array{Int64,1}:\n",
       "  3\n",
       "  7\n",
       " 11"
      ]
     },
     "execution_count": 9,
     "metadata": {},
     "output_type": "execute_result"
    }
   ],
   "source": [
    "# test matrix\n",
    "X =[1 2; 3 4; 5 6]\n",
    "Y = X*[1;1]"
   ]
  },
  {
   "cell_type": "markdown",
   "metadata": {},
   "source": [
    "- Construct a JOLI operator that stacks a vectorized input matrix of size nt x nh along the columns. Use joDirac to define an identity operator.\n",
    "- Apply the operators C and S to the vector r to get something that resembles NMO-corrected data. You can reshape the vector into a matrix by using reshape. Plot the result.\n",
    "\n",
    "The next step is to define the NMO operator. Use joNMO and define the operator for a constant velocity of 2000 m/s. Apply it to the result of the previous exercise and plot the result.\n",
    "\n",
    "Now, define a combined operator that predicts data given a spike train.\n",
    "\n",
    "- Check that your combined operator satisfies the dottest\n",
    "- Make data for the spike train r and add some noise.\n",
    "- Invert the operator with both lsqr and spgl1 (see previous exercise).\n"
   ]
  },
  {
   "cell_type": "markdown",
   "metadata": {},
   "source": [
    "# Inverting the Radon transform\n",
    "\n",
    "In the previous exercise we saw that the Radon transform is not unitary. This means that its adjoint is not its inverse. Here, we will set up a JOLI operator for the Radon transform and invert it using lsqr and spgl1. If the computation takes too long you can use a coarser sampling of the q axis.\n",
    "\n",
    "- read the data parab.segy\n",
    "- Set up a parabolic radon transform JOLI operator , R=joRadon(....; DDT=joFloat)\n",
    "- Plot the data in the Radon domain, and go back to the orininal data using the adjoint. Compare to the original data. - - What do you notice?\n",
    "- You want to obtain data in the Radon domain b for which the predicted data in the t,h domain is close to the original data. How would you do this?.\n",
    "- Setup a damped least-squares system and invert with lsqr. Try different damping parameters and explain what you see. Hint: us lsqr(..., damp=) for a damped least square.\n",
    "- Use the original system and invert with spgl1(A,b,0,tolerance).\n",
    "- Describe a possible application of this technique in seismic processing\n",
    "\n",
    "\n",
    "Do not forget to turn your data into Float64"
   ]
  }
 ],
 "metadata": {
  "kernelspec": {
   "display_name": "Julia 0.6.4",
   "language": "julia",
   "name": "julia-0.6"
  },
  "language_info": {
   "file_extension": ".jl",
   "mimetype": "application/julia",
   "name": "julia",
   "version": "0.6.4"
  }
 },
 "nbformat": 4,
 "nbformat_minor": 2
}
