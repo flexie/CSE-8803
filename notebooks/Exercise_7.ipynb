{
 "cells": [
  {
   "cell_type": "markdown",
   "metadata": {},
   "source": [
    "# Exercise 7 : Waveform inversion\n",
    "\n",
    "With waveform inversion we try to find the velocity model for which the modeled data optimally fits the observed data in a least-squares sense. Mathematically, we try to solve the following optimization problem:\n",
    "\n",
    "where  is the modeling operator and  is the observed data.\n",
    "\n",
    "Contents:\n",
    "- Camambert model\n",
    "- Modeling\n",
    "- Optimization\n",
    "- Inversion\n",
    "\n",
    "To illustrate some key properties of the waveform inversion problem, we are going to conduct some experiments on the famous 'Camambert' model.\n",
    "\n",
    "# Camambert model:\n",
    "\n",
    "The Camambert model consists of a circular perturbation,  , superimposed on a homogeneous medium,  , with velocity 2500 m/s."
   ]
  },
  {
   "cell_type": "code",
   "execution_count": 1,
   "metadata": {},
   "outputs": [],
   "source": [
    "using JUDI.TimeModeling, JUDI.SLIM_optim, PyPlot, SeisIO"
   ]
  },
  {
   "cell_type": "code",
   "execution_count": 2,
   "metadata": {},
   "outputs": [],
   "source": [
    "# Velocity model\n",
    "\n",
    "# number of gridpoints\n",
    "n = (101, 101)\n",
    "\n",
    "# Grid spacing\n",
    "d = (10f0, 10f0)\n",
    "\n",
    "# Origin\n",
    "o = (0f0, 0f0)\n",
    "\n",
    "x = zeros(n)\n",
    "z = zeros(n)\n",
    "\n",
    "for i in 0:100\n",
    "    x[i+1, :] = i*10\n",
    "    z[:, i+1] = i*10\n",
    "end\n",
    "\n",
    "# \n",
    "vp = 2.5f0 * ones(Float32, n)\n",
    "vp[find(sqrt.((x-500).^2 +(z-500).^2) .<=225)]= 3.0f0\n",
    "m = 1f0./vp.^2f0\n",
    "#\n",
    "v0 = 2.5f0 * ones(Float32, n)\n",
    "m0 = 1f0./v0.^2f0;"
   ]
  },
  {
   "cell_type": "code",
   "execution_count": 3,
   "metadata": {},
   "outputs": [
    {
     "data": {
      "image/png": "[encoded data removed]",
      "text/plain": [
       "PyPlot.Figure(PyObject <Figure size 640x480 with 1 Axes>)"
      ]
     },
     "metadata": {},
     "output_type": "display_data"
    },
    {
     "data": {
      "text/plain": [
       "PyObject <matplotlib.image.AxesImage object at 0x1270822b0>"
      ]
     },
     "execution_count": 3,
     "metadata": {},
     "output_type": "execute_result"
    }
   ],
   "source": [
    "imshow(m)"
   ]
  },
  {
   "cell_type": "code",
   "execution_count": 4,
   "metadata": {},
   "outputs": [
    {
     "data": {
      "text/plain": [
       "JUDI.TimeModeling.Model((101, 101), (10.0f0, 10.0f0), (0.0f0, 0.0f0), 40, Float32[0.16 0.16 … 0.16 0.16; 0.16 0.16 … 0.16 0.16; … ; 0.16 0.16 … 0.16 0.16; 0.16 0.16 … 0.16 0.16], 1)"
      ]
     },
     "execution_count": 4,
     "metadata": {},
     "output_type": "execute_result"
    }
   ],
   "source": [
    "# Set up model structure w/ squared slowness\n",
    "model0 = Model(n, d, o, m0)\n",
    "model = Model(n, d, o, m)"
   ]
  },
  {
   "cell_type": "markdown",
   "metadata": {},
   "source": [
    "# Source geometry"
   ]
  },
  {
   "cell_type": "code",
   "execution_count": 5,
   "metadata": {},
   "outputs": [
    {
     "data": {
      "text/plain": [
       "JUDI.TimeModeling.GeometryIC(Any[10.0, 118.889, 227.778, 336.667, 445.556, 554.444, 663.333, 772.222, 881.111, 990.0], Any[0.0, 0.0, 0.0, 0.0, 0.0, 0.0, 0.0, 0.0, 0.0, 0.0], Any[10.0, 10.0, 10.0, 10.0, 10.0, 10.0, 10.0, 10.0, 10.0, 10.0], Any[2.0, 2.0, 2.0, 2.0, 2.0, 2.0, 2.0, 2.0, 2.0, 2.0], Any[501, 501, 501, 501, 501, 501, 501, 501, 501, 501], Any[1000.0, 1000.0, 1000.0, 1000.0, 1000.0, 1000.0, 1000.0, 1000.0, 1000.0, 1000.0])"
      ]
     },
     "execution_count": 5,
     "metadata": {},
     "output_type": "execute_result"
    }
   ],
   "source": [
    "# Sources\n",
    "nsrc = 10\n",
    "xsrc = convertToCell(linspace(10f0, 990f0, nsrc))\n",
    "ysrc = convertToCell(linspace(0f0, 0f0, nsrc))\n",
    "zsrc = convertToCell(linspace(10f0, 10f0, nsrc))\n",
    "# source sampling and number of time steps\n",
    "timeS = 1000.\n",
    "dtS = 2.\n",
    "\n",
    "# Set up source structure\n",
    "srcGeometry = Geometry(xsrc,ysrc,zsrc; dt=dtS, t=timeS)"
   ]
  },
  {
   "cell_type": "markdown",
   "metadata": {},
   "source": [
    "# Receiver geometry"
   ]
  },
  {
   "cell_type": "code",
   "execution_count": 6,
   "metadata": {},
   "outputs": [
    {
     "data": {
      "text/plain": [
       "JUDI.TimeModeling.GeometryIC(Any[10.0f0:20.0f0:990.0f0, 10.0f0:20.0f0:990.0f0, 10.0f0:20.0f0:990.0f0, 10.0f0:20.0f0:990.0f0, 10.0f0:20.0f0:990.0f0, 10.0f0:20.0f0:990.0f0, 10.0f0:20.0f0:990.0f0, 10.0f0:20.0f0:990.0f0, 10.0f0:20.0f0:990.0f0, 10.0f0:20.0f0:990.0f0], Any[0.0, 0.0, 0.0, 0.0, 0.0, 0.0, 0.0, 0.0, 0.0, 0.0], Any[990.0f0:0.0f0:990.0f0, 990.0f0:0.0f0:990.0f0, 990.0f0:0.0f0:990.0f0, 990.0f0:0.0f0:990.0f0, 990.0f0:0.0f0:990.0f0, 990.0f0:0.0f0:990.0f0, 990.0f0:0.0f0:990.0f0, 990.0f0:0.0f0:990.0f0, 990.0f0:0.0f0:990.0f0, 990.0f0:0.0f0:990.0f0], Any[2.0, 2.0, 2.0, 2.0, 2.0, 2.0, 2.0, 2.0, 2.0, 2.0], Any[501, 501, 501, 501, 501, 501, 501, 501, 501, 501], Any[1000.0, 1000.0, 1000.0, 1000.0, 1000.0, 1000.0, 1000.0, 1000.0, 1000.0, 1000.0])"
      ]
     },
     "execution_count": 6,
     "metadata": {},
     "output_type": "execute_result"
    }
   ],
   "source": [
    "# Receievers reflection\n",
    "nrec = 50\n",
    "xrec = linspace(10f0, 990f0, nrec)\n",
    "yrec = 0f0\n",
    "zrec = linspace(10f0, 10f0, nrec)\n",
    "# source sampling and number of time steps\n",
    "timeR = 1000.\n",
    "dtR = 2.\n",
    "\n",
    "# Set up receiver structure\n",
    "recGeometry_reflection = Geometry(xrec,yrec,zrec;dt=dtR,t=timeR, nsrc=nsrc)\n",
    "\n",
    "# Receievers transmission\n",
    "nrec = 50\n",
    "xrec = linspace(10f0, 990f0, nrec)\n",
    "yrec = 0f0\n",
    "zrec = linspace(990f0, 990f0, nrec)\n",
    "# source sampling and number of time steps\n",
    "timeR = 1000.\n",
    "dtR = 2.\n",
    "\n",
    "# Set up receiver structure\n",
    "recGeometry_transmission = Geometry(xrec,yrec,zrec;dt=dtR,t=timeR, nsrc=nsrc)"
   ]
  },
  {
   "cell_type": "markdown",
   "metadata": {},
   "source": [
    "# Optimization\n",
    "\n",
    "lbfgs (minConf_PQN here) can be used to solve optimization problems of the form:\n",
    "\n",
    "$\\min_{\\mathbf{m}}\\quad \\phi(\\mathbf{m})$\n",
    "\n",
    "The method needs a function that calculates the misfit and gradient. The gradient of the LS misfit:\n",
    "\n",
    "$\\phi(\\mathbf{m}) = \\frac{1}{2}|F(\\mathbf{m}) {-} \\mathbf{d}|_2^2$\n",
    "\n",
    "is given by\n",
    "\n",
    "$\\nabla\\phi(\\mathbf{m}) = J(\\mathbf{m})^*(F(\\mathbf{m}) {-} \\mathbf{d})$\n",
    "\n",
    "where $J(\\mathbf{m})$ is the Jacobian matrix of $F$ and $^*# denotes the complex-conjugate-transpose (' in Julia). The Jacobian is provided by the modeling operator: `J = judiJacobian(F, q)`\n",
    "\n",
    "Write a julia function misfit(m) that returns the value of the misfit and the gradient for the given model `m`.\n",
    "minConf_SQP that function as an input\n"
   ]
  },
  {
   "cell_type": "markdown",
   "metadata": {},
   "source": [
    "# Inversion\n",
    "\n",
    "In the following experiments we will vary acquisition setup to emulatate a reflection and a transmission experiment:\n",
    "\n",
    "Reflection setup: `reflection_data.segy`.\n",
    "Transmission setup:`transmission_data.segy`.\n",
    "\n",
    "- define the function-handle as described above.\n",
    "- define an initial model m0 by converting v0 to the proper units.\n",
    "- use lbfgs| for a small amount of iterations (10, say).\n",
    "\n",
    "Compare the results of both experiments in terms of:\n",
    "\n",
    "- reconstruction\n",
    "- data-fit\n",
    "\n",
    "\n",
    "In order to obtain nice conergence use the following bound constraint\n",
    "\n",
    "# Bound projection\n",
    "ProjBound(x) = boundproject(x, maximum(m), .9*minimum(m))"
   ]
  },
  {
   "cell_type": "markdown",
   "metadata": {},
   "source": [
    "# Setup"
   ]
  },
  {
   "cell_type": "code",
   "execution_count": 7,
   "metadata": {},
   "outputs": [
    {
     "data": {
      "text/plain": [
       "JUDI.TimeModeling.Info(10201, 10, Any[596, 596, 596, 596, 596, 596, 596, 596, 596, 596])"
      ]
     },
     "execution_count": 7,
     "metadata": {},
     "output_type": "execute_result"
    }
   ],
   "source": [
    "# To setup the operator in for example the reflection case\n",
    "\n",
    "# setup wavelet\n",
    "f0 = 0.01  # 5 Hz wavelet\n",
    "wavelet = ricker_wavelet(timeS, dtS, f0)\n",
    "q = judiVector(srcGeometry, wavelet)\n",
    "\n",
    "\n",
    "# Set up info structure for linear operators\n",
    "ntComp = get_computational_nt(srcGeometry, recGeometry_reflection, model)\n",
    "ntComp0 = get_computational_nt(srcGeometry, recGeometry_reflection, model0)\n",
    "info = Info(prod(n), nsrc, ntComp)\n",
    "info0 = Info(prod(n), nsrc, ntComp0)"
   ]
  },
  {
   "cell_type": "code",
   "execution_count": 8,
   "metadata": {},
   "outputs": [
    {
     "data": {
      "text/plain": [
       "JUDI.TimeModeling.judiPDEfull{Float32,Float32}(\"Proj*F*Proj'\", 250500, 5010, JUDI.TimeModeling.Info(10201, 10, Any[715, 715, 715, 715, 715, 715, 715, 715, 715, 715]), JUDI.TimeModeling.Model((101, 101), (10.0f0, 10.0f0), (0.0f0, 0.0f0), 40, Float32[0.16 0.16 … 0.16 0.16; 0.16 0.16 … 0.16 0.16; … ; 0.16 0.16 … 0.16 0.16; 0.16 0.16 … 0.16 0.16], 1), JUDI.TimeModeling.GeometryIC(Any[10.0, 118.889, 227.778, 336.667, 445.556, 554.444, 663.333, 772.222, 881.111, 990.0], Any[0.0, 0.0, 0.0, 0.0, 0.0, 0.0, 0.0, 0.0, 0.0, 0.0], Any[10.0, 10.0, 10.0, 10.0, 10.0, 10.0, 10.0, 10.0, 10.0, 10.0], Any[2.0, 2.0, 2.0, 2.0, 2.0, 2.0, 2.0, 2.0, 2.0, 2.0], Any[501, 501, 501, 501, 501, 501, 501, 501, 501, 501], Any[1000.0, 1000.0, 1000.0, 1000.0, 1000.0, 1000.0, 1000.0, 1000.0, 1000.0, 1000.0]), JUDI.TimeModeling.GeometryIC(Any[10.0f0:20.0f0:990.0f0, 10.0f0:20.0f0:990.0f0, 10.0f0:20.0f0:990.0f0, 10.0f0:20.0f0:990.0f0, 10.0f0:20.0f0:990.0f0, 10.0f0:20.0f0:990.0f0, 10.0f0:20.0f0:990.0f0, 10.0f0:20.0f0:990.0f0, 10.0f0:20.0f0:990.0f0, 10.0f0:20.0f0:990.0f0], Any[0.0, 0.0, 0.0, 0.0, 0.0, 0.0, 0.0, 0.0, 0.0, 0.0], Any[990.0f0:0.0f0:990.0f0, 990.0f0:0.0f0:990.0f0, 990.0f0:0.0f0:990.0f0, 990.0f0:0.0f0:990.0f0, 990.0f0:0.0f0:990.0f0, 990.0f0:0.0f0:990.0f0, 990.0f0:0.0f0:990.0f0, 990.0f0:0.0f0:990.0f0, 990.0f0:0.0f0:990.0f0, 990.0f0:0.0f0:990.0f0], Any[2.0, 2.0, 2.0, 2.0, 2.0, 2.0, 2.0, 2.0, 2.0, 2.0], Any[501, 501, 501, 501, 501, 501, 501, 501, 501, 501], Any[1000.0, 1000.0, 1000.0, 1000.0, 1000.0, 1000.0, 1000.0, 1000.0, 1000.0, 1000.0]), JUDI.TimeModeling.Options(8, false, false, 1000.0, false, false, \"\", \"shot\", false, false, nothing, nothing, Any[], 1, false), JUDI.TimeModeling.#85, Nullable{Function}(JUDI.TimeModeling.#86))"
      ]
     },
     "execution_count": 8,
     "metadata": {},
     "output_type": "execute_result"
    }
   ],
   "source": [
    "\n",
    "F_r = judiModeling(info, model, srcGeometry, recGeometry_reflection)\n",
    "\n",
    "F_t = judiModeling(info, model, srcGeometry, recGeometry_transmission)"
   ]
  },
  {
   "cell_type": "code",
   "execution_count": 9,
   "metadata": {},
   "outputs": [
    {
     "data": {
      "text/plain": [
       "JUDI.TimeModeling.judiVector{Float32}(\"Seismic data vector\", 250500, 1, 10, JUDI.TimeModeling.GeometryIC(Any[10.0f0:20.0f0:990.0f0, 10.0f0:20.0f0:990.0f0, 10.0f0:20.0f0:990.0f0, 10.0f0:20.0f0:990.0f0, 10.0f0:20.0f0:990.0f0, 10.0f0:20.0f0:990.0f0, 10.0f0:20.0f0:990.0f0, 10.0f0:20.0f0:990.0f0, 10.0f0:20.0f0:990.0f0, 10.0f0:20.0f0:990.0f0], Any[0.0, 0.0, 0.0, 0.0, 0.0, 0.0, 0.0, 0.0, 0.0, 0.0], Any[990.0f0:0.0f0:990.0f0, 990.0f0:0.0f0:990.0f0, 990.0f0:0.0f0:990.0f0, 990.0f0:0.0f0:990.0f0, 990.0f0:0.0f0:990.0f0, 990.0f0:0.0f0:990.0f0, 990.0f0:0.0f0:990.0f0, 990.0f0:0.0f0:990.0f0, 990.0f0:0.0f0:990.0f0, 990.0f0:0.0f0:990.0f0], Any[2.0, 2.0, 2.0, 2.0, 2.0, 2.0, 2.0, 2.0, 2.0, 2.0], Any[501, 501, 501, 501, 501, 501, 501, 501, 501, 501], Any[1000.0, 1000.0, 1000.0, 1000.0, 1000.0, 1000.0, 1000.0, 1000.0, 1000.0, 1000.0]), Array[Float32[0.0 0.0 … -0.0 0.0; -0.0 -0.0 … 0.0 -0.0; … ; 0.117519 0.108306 … -0.0149311 -0.02242; 0.0 0.0 … 0.0 0.0], Float32[-0.0 -0.0 … -0.0 0.0; 0.0 0.0 … 0.0 -0.0; … ; -0.0952735 -0.156537 … 0.00245036 0.000152125; 0.0 0.0 … 0.0 0.0], Float32[0.0 0.0 … 0.0 -0.0; -0.0 -0.0 … -0.0 0.0; … ; -0.336758 -0.315614 … 0.0047454 0.00407105; 0.0 0.0 … 0.0 0.0], Float32[0.0 -0.0 … -0.0 0.0; -0.0 0.0 … 0.0 -0.0; … ; -0.0179424 0.051801 … 0.0517295 0.0559818; 0.0 0.0 … 0.0 0.0], Float32[-0.0 -0.0 … 0.0 0.0; 0.0 0.0 … -0.0 -0.0; … ; 0.257297 0.256143 … 0.166788 0.183662; 0.0 0.0 … 0.0 0.0], Float32[0.0 0.0 … -0.0 -0.0; -0.0 -0.0 … 0.0 0.0; … ; 0.183661 0.166788 … 0.256143 0.257299; 0.0 0.0 … 0.0 0.0], Float32[0.0 -0.0 … -0.0 0.0; -0.0 0.0 … 0.0 -0.0; … ; 0.055982 0.0517288 … 0.0518008 -0.0179421; 0.0 0.0 … 0.0 0.0], Float32[-0.0 0.0 … 0.0 0.0; 0.0 -0.0 … -0.0 -0.0; … ; 0.00406987 0.00474416 … -0.315612 -0.336757; 0.0 0.0 … 0.0 0.0], Float32[0.0 -0.0 … -0.0 -0.0; -0.0 0.0 … 0.0 0.0; … ; 0.000153001 0.00245026 … -0.156537 -0.0952754; 0.0 0.0 … 0.0 0.0], Float32[0.0 -0.0 … 0.0 0.0; -0.0 0.0 … -0.0 -0.0; … ; -0.0224219 -0.0149326 … 0.108305 0.117518; 0.0 0.0 … 0.0 0.0]])"
      ]
     },
     "execution_count": 9,
     "metadata": {},
     "output_type": "execute_result"
    }
   ],
   "source": [
    "d_trans = F_t * q"
   ]
  },
  {
   "cell_type": "code",
   "execution_count": 10,
   "metadata": {},
   "outputs": [
    {
     "data": {
      "text/plain": [
       "f (generic function with 1 method)"
      ]
     },
     "execution_count": 10,
     "metadata": {},
     "output_type": "execute_result"
    }
   ],
   "source": [
    "function f(x)\n",
    "    \n",
    "    # Update model\n",
    "    model0.m = convert(Array{Float32, 2}, reshape(x, model0.n))\n",
    "    F0_t = judiModeling(info0, model0, srcGeometry, recGeometry_transmission)\n",
    "    J = judiJacobian(F0_t, q)\n",
    "    \n",
    "    # Synthetic data\n",
    "    d_syn = F0_t*q\n",
    "    \n",
    "    # residual\n",
    "    \n",
    "    residual = d_syn - d_trans\n",
    "    \n",
    "    # Misfit\n",
    "    \n",
    "    f = .5*norm(residual)^2\n",
    "    \n",
    "    # gradient\n",
    "    \n",
    "    grad = J'*residual\n",
    "    \n",
    "    return f, vec(grad)\n",
    "end\n",
    "    "
   ]
  },
  {
   "cell_type": "code",
   "execution_count": 11,
   "metadata": {},
   "outputs": [
    {
     "ename": "LoadError",
     "evalue": "\u001b[91m\u001b[91m\u001b[91mPyError (ccall(@pysym(:PyFloat_AsDouble), Cdouble, (PyPtr,), po)) <class 'TypeError'>\nTypeError('only size-1 arrays can be converted to Python scalars',)\n\u001b[39m\npyerr_check at /Users/mathiaslouboutin/.julia/v0.6/PyCall/src/exception.jl:60 [inlined]\nconvert(::Type{Float32}, ::PyCall.PyObject) at /Users/mathiaslouboutin/.julia/v0.6/PyCall/src/conversions.jl:58\npy2array(::Type{T} where T, ::Array{Float32,1}, ::PyCall.PyObject, ::Int64, ::Int64) at /Users/mathiaslouboutin/.julia/v0.6/PyCall/src/conversions.jl:343\npy2array(::Type{T} where T, ::PyCall.PyObject) at /Users/mathiaslouboutin/.julia/v0.6/PyCall/src/conversions.jl:394\nconvert(::Type{Array{Float32,2}}, ::PyCall.PyObject) at /Users/mathiaslouboutin/.julia/v0.6/PyCall/src/pyarray.jl:277\n#pycall#97(::Array{Any,1}, ::Function, ::PyCall.PyObject, ::Type{Array{Float32,2}}, ::PyCall.PyObject, ::Vararg{PyCall.PyObject,N} where N) at /Users/mathiaslouboutin/.julia/v0.6/PyCall/src/pyfncall.jl:83\n(::PyCall.#kw##pycall)(::Array{Any,1}, ::PyCall.#pycall, ::PyCall.PyObject, ::Type{Array{Float32,2}}, ::PyCall.PyObject, ::Vararg{PyCall.PyObject,N} where N) at ./<missing>:0\ndevito_interface(::PyCall.PyObject, ::Tuple{Float32,Float32}, ::JUDI.TimeModeling.GeometryIC, ::Array{Any,1}, ::JUDI.TimeModeling.GeometryIC, ::Array{Any,1}, ::Void, ::JUDI.TimeModeling.Options) at /Users/mathiaslouboutin/.julia/v0.6/JUDI/src/TimeModeling/time_modeling_serial.jl:289\ntime_modeling(::JUDI.TimeModeling.Model, ::JUDI.TimeModeling.GeometryIC, ::Array{Any,1}, ::JUDI.TimeModeling.GeometryIC, ::Array{Any,1}, ::Void, ::Int64, ::Char, ::Int64, ::JUDI.TimeModeling.Options) at /Users/mathiaslouboutin/.julia/v0.6/JUDI/src/TimeModeling/time_modeling_serial.jl:50\n(::Base.Distributed.##135#136{JUDI.TimeModeling.#time_modeling,Tuple{JUDI.TimeModeling.Model,JUDI.TimeModeling.GeometryIC,Array{Any,1},JUDI.TimeModeling.GeometryIC,Array{Any,1},Void,Int64,Char,Int64,JUDI.TimeModeling.Options},Array{Any,1}})() at ./distributed/remotecall.jl:314\nrun_work_thunk(::Base.Distributed.##135#136{JUDI.TimeModeling.#time_modeling,Tuple{JUDI.TimeModeling.Model,JUDI.TimeModeling.GeometryIC,Array{Any,1},JUDI.TimeModeling.GeometryIC,Array{Any,1},Void,Int64,Char,Int64,JUDI.TimeModeling.Options},Array{Any,1}}, ::Bool) at ./distributed/process_messages.jl:56\n#remotecall_fetch#140(::Array{Any,1}, ::Function, ::Function, ::Base.Distributed.LocalProcess, ::JUDI.TimeModeling.Model, ::Vararg{Any,N} where N) at ./distributed/remotecall.jl:339\nremotecall_fetch(::Function, ::Base.Distributed.LocalProcess, ::JUDI.TimeModeling.Model, ::Vararg{Any,N} where N) at ./distributed/remotecall.jl:339\n#remotecall_fetch#144(::Array{Any,1}, ::Function, ::Function, ::Int64, ::JUDI.TimeModeling.Model, ::Vararg{Any,N} where N) at ./distributed/remotecall.jl:367\nremotecall_fetch(::Function, ::Int64, ::JUDI.TimeModeling.Model, ::Vararg{Any,N} where N) at ./distributed/remotecall.jl:367\n#remotecall_pool#163(::Array{Any,1}, ::Function, ::Function, ::Function, ::WorkerPool, ::JUDI.TimeModeling.Model, ::Vararg{Any,N} where N) at ./distributed/workerpool.jl:112\nremotecall_pool(::Function, ::Function, ::WorkerPool, ::JUDI.TimeModeling.Model, ::Vararg{Any,N} where N) at ./distributed/workerpool.jl:110\n#remotecall_fetch#180(::Array{Any,1}, ::Function, ::Function, ::WorkerPool, ::JUDI.TimeModeling.Model, ::Vararg{Any,N} where N) at ./distributed/workerpool.jl:178\nremotecall_fetch(::Function, ::WorkerPool, ::JUDI.TimeModeling.Model, ::Vararg{Any,N} where N) at ./distributed/workerpool.jl:178\n(::Base.Distributed.###184#185#187{JUDI.TimeModeling.#time_modeling})(::Array{Any,1}, ::Function, ::JUDI.TimeModeling.Model, ::Vararg{Any,N} where N) at ./distributed/workerpool.jl:214\n(::Base.Distributed.##184#186)(::JUDI.TimeModeling.Model, ::Vararg{Any,N} where N) at ./distributed/workerpool.jl:214\n(::Base.###49#50#52{ExponentialBackOff,Void,Base.Distributed.##184#186})(::Array{Any,1}, ::Function, ::JUDI.TimeModeling.Model, ::Vararg{Any,N} where N) at ./error.jl:139\n(::JUDI.TimeModeling.##61#65{JUDI.TimeModeling.Model,Char,Int64,Base.##49#51,Array{Any,1}})() at ./task.jl:335\u001b[39m\n#remotecall_fetch#140(::Array{Any,1}, ::Function, ::Function, ::Base.Distributed.LocalProcess, ::JUDI.TimeModeling.Model, ::Vararg{Any,N} where N) at ./distributed/remotecall.jl:340\nremotecall_fetch(::Function, ::Base.Distributed.LocalProcess, ::JUDI.TimeModeling.Model, ::Vararg{Any,N} where N) at ./distributed/remotecall.jl:339\n#remotecall_fetch#144(::Array{Any,1}, ::Function, ::Function, ::Int64, ::JUDI.TimeModeling.Model, ::Vararg{Any,N} where N) at ./distributed/remotecall.jl:367\nremotecall_fetch(::Function, ::Int64, ::JUDI.TimeModeling.Model, ::Vararg{Any,N} where N) at ./distributed/remotecall.jl:367\n#remotecall_pool#163(::Array{Any,1}, ::Function, ::Function, ::Function, ::WorkerPool, ::JUDI.TimeModeling.Model, ::Vararg{Any,N} where N) at ./distributed/workerpool.jl:112\nremotecall_pool(::Function, ::Function, ::WorkerPool, ::JUDI.TimeModeling.Model, ::Vararg{Any,N} where N) at ./distributed/workerpool.jl:110\n#remotecall_fetch#180(::Array{Any,1}, ::Function, ::Function, ::WorkerPool, ::JUDI.TimeModeling.Model, ::Vararg{Any,N} where N) at ./distributed/workerpool.jl:178\nremotecall_fetch(::Function, ::WorkerPool, ::JUDI.TimeModeling.Model, ::Vararg{Any,N} where N) at ./distributed/workerpool.jl:178\n(::Base.Distributed.###184#185#187{JUDI.TimeModeling.#time_modeling})(::Array{Any,1}, ::Function, ::JUDI.TimeModeling.Model, ::Vararg{Any,N} where N) at ./distributed/workerpool.jl:214\n(::Base.Distributed.##184#186)(::JUDI.TimeModeling.Model, ::Vararg{Any,N} where N) at ./distributed/workerpool.jl:214\n(::Base.###49#50#52{ExponentialBackOff,Void,Base.Distributed.##184#186})(::Array{Any,1}, ::Function, ::JUDI.TimeModeling.Model, ::Vararg{Any,N} where N) at ./error.jl:139\n(::JUDI.TimeModeling.##61#65{JUDI.TimeModeling.Model,Char,Int64,Base.##49#51,Array{Any,1}})() at ./task.jl:335\n\n...and 9 more exception(s).\n\u001b[39m",
     "output_type": "error",
     "traceback": [
      "\u001b[91m\u001b[91m\u001b[91mPyError (ccall(@pysym(:PyFloat_AsDouble), Cdouble, (PyPtr,), po)) <class 'TypeError'>\nTypeError('only size-1 arrays can be converted to Python scalars',)\n\u001b[39m\npyerr_check at /Users/mathiaslouboutin/.julia/v0.6/PyCall/src/exception.jl:60 [inlined]\nconvert(::Type{Float32}, ::PyCall.PyObject) at /Users/mathiaslouboutin/.julia/v0.6/PyCall/src/conversions.jl:58\npy2array(::Type{T} where T, ::Array{Float32,1}, ::PyCall.PyObject, ::Int64, ::Int64) at /Users/mathiaslouboutin/.julia/v0.6/PyCall/src/conversions.jl:343\npy2array(::Type{T} where T, ::PyCall.PyObject) at /Users/mathiaslouboutin/.julia/v0.6/PyCall/src/conversions.jl:394\nconvert(::Type{Array{Float32,2}}, ::PyCall.PyObject) at /Users/mathiaslouboutin/.julia/v0.6/PyCall/src/pyarray.jl:277\n#pycall#97(::Array{Any,1}, ::Function, ::PyCall.PyObject, ::Type{Array{Float32,2}}, ::PyCall.PyObject, ::Vararg{PyCall.PyObject,N} where N) at /Users/mathiaslouboutin/.julia/v0.6/PyCall/src/pyfncall.jl:83\n(::PyCall.#kw##pycall)(::Array{Any,1}, ::PyCall.#pycall, ::PyCall.PyObject, ::Type{Array{Float32,2}}, ::PyCall.PyObject, ::Vararg{PyCall.PyObject,N} where N) at ./<missing>:0\ndevito_interface(::PyCall.PyObject, ::Tuple{Float32,Float32}, ::JUDI.TimeModeling.GeometryIC, ::Array{Any,1}, ::JUDI.TimeModeling.GeometryIC, ::Array{Any,1}, ::Void, ::JUDI.TimeModeling.Options) at /Users/mathiaslouboutin/.julia/v0.6/JUDI/src/TimeModeling/time_modeling_serial.jl:289\ntime_modeling(::JUDI.TimeModeling.Model, ::JUDI.TimeModeling.GeometryIC, ::Array{Any,1}, ::JUDI.TimeModeling.GeometryIC, ::Array{Any,1}, ::Void, ::Int64, ::Char, ::Int64, ::JUDI.TimeModeling.Options) at /Users/mathiaslouboutin/.julia/v0.6/JUDI/src/TimeModeling/time_modeling_serial.jl:50\n(::Base.Distributed.##135#136{JUDI.TimeModeling.#time_modeling,Tuple{JUDI.TimeModeling.Model,JUDI.TimeModeling.GeometryIC,Array{Any,1},JUDI.TimeModeling.GeometryIC,Array{Any,1},Void,Int64,Char,Int64,JUDI.TimeModeling.Options},Array{Any,1}})() at ./distributed/remotecall.jl:314\nrun_work_thunk(::Base.Distributed.##135#136{JUDI.TimeModeling.#time_modeling,Tuple{JUDI.TimeModeling.Model,JUDI.TimeModeling.GeometryIC,Array{Any,1},JUDI.TimeModeling.GeometryIC,Array{Any,1},Void,Int64,Char,Int64,JUDI.TimeModeling.Options},Array{Any,1}}, ::Bool) at ./distributed/process_messages.jl:56\n#remotecall_fetch#140(::Array{Any,1}, ::Function, ::Function, ::Base.Distributed.LocalProcess, ::JUDI.TimeModeling.Model, ::Vararg{Any,N} where N) at ./distributed/remotecall.jl:339\nremotecall_fetch(::Function, ::Base.Distributed.LocalProcess, ::JUDI.TimeModeling.Model, ::Vararg{Any,N} where N) at ./distributed/remotecall.jl:339\n#remotecall_fetch#144(::Array{Any,1}, ::Function, ::Function, ::Int64, ::JUDI.TimeModeling.Model, ::Vararg{Any,N} where N) at ./distributed/remotecall.jl:367\nremotecall_fetch(::Function, ::Int64, ::JUDI.TimeModeling.Model, ::Vararg{Any,N} where N) at ./distributed/remotecall.jl:367\n#remotecall_pool#163(::Array{Any,1}, ::Function, ::Function, ::Function, ::WorkerPool, ::JUDI.TimeModeling.Model, ::Vararg{Any,N} where N) at ./distributed/workerpool.jl:112\nremotecall_pool(::Function, ::Function, ::WorkerPool, ::JUDI.TimeModeling.Model, ::Vararg{Any,N} where N) at ./distributed/workerpool.jl:110\n#remotecall_fetch#180(::Array{Any,1}, ::Function, ::Function, ::WorkerPool, ::JUDI.TimeModeling.Model, ::Vararg{Any,N} where N) at ./distributed/workerpool.jl:178\nremotecall_fetch(::Function, ::WorkerPool, ::JUDI.TimeModeling.Model, ::Vararg{Any,N} where N) at ./distributed/workerpool.jl:178\n(::Base.Distributed.###184#185#187{JUDI.TimeModeling.#time_modeling})(::Array{Any,1}, ::Function, ::JUDI.TimeModeling.Model, ::Vararg{Any,N} where N) at ./distributed/workerpool.jl:214\n(::Base.Distributed.##184#186)(::JUDI.TimeModeling.Model, ::Vararg{Any,N} where N) at ./distributed/workerpool.jl:214\n(::Base.###49#50#52{ExponentialBackOff,Void,Base.Distributed.##184#186})(::Array{Any,1}, ::Function, ::JUDI.TimeModeling.Model, ::Vararg{Any,N} where N) at ./error.jl:139\n(::JUDI.TimeModeling.##61#65{JUDI.TimeModeling.Model,Char,Int64,Base.##49#51,Array{Any,1}})() at ./task.jl:335\u001b[39m\n#remotecall_fetch#140(::Array{Any,1}, ::Function, ::Function, ::Base.Distributed.LocalProcess, ::JUDI.TimeModeling.Model, ::Vararg{Any,N} where N) at ./distributed/remotecall.jl:340\nremotecall_fetch(::Function, ::Base.Distributed.LocalProcess, ::JUDI.TimeModeling.Model, ::Vararg{Any,N} where N) at ./distributed/remotecall.jl:339\n#remotecall_fetch#144(::Array{Any,1}, ::Function, ::Function, ::Int64, ::JUDI.TimeModeling.Model, ::Vararg{Any,N} where N) at ./distributed/remotecall.jl:367\nremotecall_fetch(::Function, ::Int64, ::JUDI.TimeModeling.Model, ::Vararg{Any,N} where N) at ./distributed/remotecall.jl:367\n#remotecall_pool#163(::Array{Any,1}, ::Function, ::Function, ::Function, ::WorkerPool, ::JUDI.TimeModeling.Model, ::Vararg{Any,N} where N) at ./distributed/workerpool.jl:112\nremotecall_pool(::Function, ::Function, ::WorkerPool, ::JUDI.TimeModeling.Model, ::Vararg{Any,N} where N) at ./distributed/workerpool.jl:110\n#remotecall_fetch#180(::Array{Any,1}, ::Function, ::Function, ::WorkerPool, ::JUDI.TimeModeling.Model, ::Vararg{Any,N} where N) at ./distributed/workerpool.jl:178\nremotecall_fetch(::Function, ::WorkerPool, ::JUDI.TimeModeling.Model, ::Vararg{Any,N} where N) at ./distributed/workerpool.jl:178\n(::Base.Distributed.###184#185#187{JUDI.TimeModeling.#time_modeling})(::Array{Any,1}, ::Function, ::JUDI.TimeModeling.Model, ::Vararg{Any,N} where N) at ./distributed/workerpool.jl:214\n(::Base.Distributed.##184#186)(::JUDI.TimeModeling.Model, ::Vararg{Any,N} where N) at ./distributed/workerpool.jl:214\n(::Base.###49#50#52{ExponentialBackOff,Void,Base.Distributed.##184#186})(::Array{Any,1}, ::Function, ::JUDI.TimeModeling.Model, ::Vararg{Any,N} where N) at ./error.jl:139\n(::JUDI.TimeModeling.##61#65{JUDI.TimeModeling.Model,Char,Int64,Base.##49#51,Array{Any,1}})() at ./task.jl:335\n\n...and 9 more exception(s).\n\u001b[39m",
      "",
      "Stacktrace:",
      " [1] \u001b[1msync_end\u001b[22m\u001b[22m\u001b[1m(\u001b[22m\u001b[22m\u001b[1m)\u001b[22m\u001b[22m at \u001b[1m./task.jl:287\u001b[22m\u001b[22m",
      " [2] \u001b[1mmacro expansion\u001b[22m\u001b[22m at \u001b[1m./task.jl:303\u001b[22m\u001b[22m [inlined]",
      " [3] \u001b[1mtime_modeling\u001b[22m\u001b[22m\u001b[1m(\u001b[22m\u001b[22m::JUDI.TimeModeling.Model, ::JUDI.TimeModeling.GeometryIC, ::Array{Array,1}, ::JUDI.TimeModeling.GeometryIC, ::Array{Array,1}, ::Void, ::UnitRange{Int64}, ::Char, ::Int64, ::JUDI.TimeModeling.Options\u001b[1m)\u001b[22m\u001b[22m at \u001b[1m/Users/mathiaslouboutin/.julia/v0.6/JUDI/src/TimeModeling/time_modeling_parallel.jl:17\u001b[22m\u001b[22m",
      " [4] \u001b[1m(::JUDI.TimeModeling.##149#151{JUDI.TimeModeling.judiPDEfull{Float32,Float32},JUDI.TimeModeling.judiVector{Float32}})\u001b[22m\u001b[22m\u001b[1m(\u001b[22m\u001b[22m::JUDI.TimeModeling.judiVector{Float32}\u001b[1m)\u001b[22m\u001b[22m at \u001b[1m/Users/mathiaslouboutin/.julia/v0.6/JUDI/src/TimeModeling/judiJacobian.jl:71\u001b[22m\u001b[22m",
      " [5] \u001b[1m*\u001b[22m\u001b[22m\u001b[1m(\u001b[22m\u001b[22m::JUDI.TimeModeling.judiJacobian{Float32,Float32}, ::JUDI.TimeModeling.judiVector{Float32}\u001b[1m)\u001b[22m\u001b[22m at \u001b[1m/Users/mathiaslouboutin/.julia/v0.6/JUDI/src/TimeModeling/judiJacobian.jl:117\u001b[22m\u001b[22m",
      " [6] \u001b[1mAc_mul_B\u001b[22m\u001b[22m\u001b[1m(\u001b[22m\u001b[22m::JUDI.TimeModeling.judiJacobian{Float32,Float32}, ::JUDI.TimeModeling.judiVector{Float32}\u001b[1m)\u001b[22m\u001b[22m at \u001b[1m./operators.jl:718\u001b[22m\u001b[22m",
      " [7] \u001b[1minclude_string\u001b[22m\u001b[22m\u001b[1m(\u001b[22m\u001b[22m::String, ::String\u001b[1m)\u001b[22m\u001b[22m at \u001b[1m./loading.jl:522\u001b[22m\u001b[22m",
      " [8] \u001b[1mexecute_request\u001b[22m\u001b[22m\u001b[1m(\u001b[22m\u001b[22m::ZMQ.Socket, ::IJulia.Msg\u001b[1m)\u001b[22m\u001b[22m at \u001b[1m/Users/mathiaslouboutin/.julia/v0.6/IJulia/src/execute_request.jl:193\u001b[22m\u001b[22m",
      " [9] \u001b[1m(::Compat.#inner#6{Array{Any,1},IJulia.#execute_request,Tuple{ZMQ.Socket,IJulia.Msg}})\u001b[22m\u001b[22m\u001b[1m(\u001b[22m\u001b[22m\u001b[1m)\u001b[22m\u001b[22m at \u001b[1m/Users/mathiaslouboutin/.julia/v0.6/Compat/src/Compat.jl:189\u001b[22m\u001b[22m",
      " [10] \u001b[1meventloop\u001b[22m\u001b[22m\u001b[1m(\u001b[22m\u001b[22m::ZMQ.Socket\u001b[1m)\u001b[22m\u001b[22m at \u001b[1m/Users/mathiaslouboutin/.julia/v0.6/IJulia/src/eventloop.jl:8\u001b[22m\u001b[22m",
      " [11] \u001b[1m(::IJulia.##13#16)\u001b[22m\u001b[22m\u001b[1m(\u001b[22m\u001b[22m\u001b[1m)\u001b[22m\u001b[22m at \u001b[1m./task.jl:335\u001b[22m\u001b[22m"
     ]
    }
   ],
   "source": [
    "F0_t = judiModeling(info0, model0, srcGeometry, recGeometry_transmission)\n",
    "J = judiJacobian(F_t, q);\n",
    "\n",
    "dm = J'*d_trans"
   ]
  },
  {
   "cell_type": "code",
   "execution_count": 12,
   "metadata": {},
   "outputs": [
    {
     "data": {
      "image/png": "[encoded data removed]",
      "text/plain": [
       "PyPlot.Figure(PyObject <Figure size 640x480 with 1 Axes>)"
      ]
     },
     "metadata": {},
     "output_type": "display_data"
    },
    {
     "data": {
      "text/plain": [
       "PyObject <matplotlib.image.AxesImage object at 0x14927cda0>"
      ]
     },
     "execution_count": 12,
     "metadata": {},
     "output_type": "execute_result"
    }
   ],
   "source": [
    "imshow(d_trans.data[1], vmin=-1, vmax=1)"
   ]
  },
  {
   "cell_type": "code",
   "execution_count": 13,
   "metadata": {},
   "outputs": [
    {
     "data": {
      "text/plain": [
       "ProjBound (generic function with 1 method)"
      ]
     },
     "execution_count": 13,
     "metadata": {},
     "output_type": "execute_result"
    }
   ],
   "source": [
    "# invert\n",
    "options = pqn_options(verbose=3, maxIter=10, corrections=10)\n",
    "# Bound projection\n",
    "ProjBound(x) = boundproject(x, maximum(m), .9*minimum(m))\n",
    "# x, fsave, funEvals= minConf_PQN(f, vec(m0), ProjBound, options)"
   ]
  },
  {
   "cell_type": "code",
   "execution_count": null,
   "metadata": {},
   "outputs": [],
   "source": []
  }
 ],
 "metadata": {
  "kernelspec": {
   "display_name": "Julia 0.6.2",
   "language": "julia",
   "name": "julia-0.6"
  },
  "language_info": {
   "file_extension": ".jl",
   "mimetype": "application/julia",
   "name": "julia",
   "version": "0.6.2"
  }
 },
 "nbformat": 4,
 "nbformat_minor": 2
}
